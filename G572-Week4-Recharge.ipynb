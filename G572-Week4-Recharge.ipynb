{
 "cells": [
  {
   "cell_type": "markdown",
   "metadata": {},
   "source": [
    "<a id='Top'></a>\n",
    "# <center>Week 4 Lecture Notes: Estimating Recharge</center>\n",
    "\n",
    "<ul>\n",
    "    <li><a href='#Review'>Review</a></li>\n",
    "    <li><a href='#Estimating Recharge'>Estimating Recharge</a></li>\n",
    "</ul>\n",
    "\n"
   ]
  },
  {
   "cell_type": "markdown",
   "metadata": {},
   "source": [
    "\n",
    "\n",
    "\n",
    "# Import this week's packages\n"
   ]
  },
  {
   "cell_type": "code",
   "execution_count": 1,
   "metadata": {},
   "outputs": [],
   "source": [
    "# import math\n",
    "import math\n",
    "# import pandas with alias pd\n",
    "import pandas as pd\n",
    "# import matplotlib as plt\n",
    "import matplotlib.pyplot as plt\n",
    "%matplotlib inline\n",
    "\n",
    "import datetime"
   ]
  },
  {
   "cell_type": "markdown",
   "metadata": {},
   "source": [
    "<a id='Review'></a>\n",
    "\n",
    "# Review: Pandas as an Excel substitute\n",
    "\n",
    "Import a csv as a Pandas DataFrame. "
   ]
  },
  {
   "cell_type": "code",
   "execution_count": 2,
   "metadata": {
    "scrolled": true
   },
   "outputs": [
    {
     "data": {
      "text/html": [
       "<div>\n",
       "<style scoped>\n",
       "    .dataframe tbody tr th:only-of-type {\n",
       "        vertical-align: middle;\n",
       "    }\n",
       "\n",
       "    .dataframe tbody tr th {\n",
       "        vertical-align: top;\n",
       "    }\n",
       "\n",
       "    .dataframe thead th {\n",
       "        text-align: right;\n",
       "    }\n",
       "</style>\n",
       "<table border=\"1\" class=\"dataframe\">\n",
       "  <thead>\n",
       "    <tr style=\"text-align: right;\">\n",
       "      <th></th>\n",
       "      <th>RECORD</th>\n",
       "      <th>TIMESTAMP</th>\n",
       "      <th>depth_to_water_from_land_surface</th>\n",
       "      <th>head</th>\n",
       "    </tr>\n",
       "  </thead>\n",
       "  <tbody>\n",
       "    <tr>\n",
       "      <th>0</th>\n",
       "      <td>0</td>\n",
       "      <td>2014-08-14 14:00:00</td>\n",
       "      <td>26.59</td>\n",
       "      <td>584.06</td>\n",
       "    </tr>\n",
       "    <tr>\n",
       "      <th>1</th>\n",
       "      <td>1</td>\n",
       "      <td>2014-08-14 15:00:00</td>\n",
       "      <td>26.58</td>\n",
       "      <td>584.07</td>\n",
       "    </tr>\n",
       "    <tr>\n",
       "      <th>2</th>\n",
       "      <td>2</td>\n",
       "      <td>2014-08-14 16:00:00</td>\n",
       "      <td>26.58</td>\n",
       "      <td>584.07</td>\n",
       "    </tr>\n",
       "    <tr>\n",
       "      <th>3</th>\n",
       "      <td>3</td>\n",
       "      <td>2014-08-14 17:00:00</td>\n",
       "      <td>26.59</td>\n",
       "      <td>584.06</td>\n",
       "    </tr>\n",
       "    <tr>\n",
       "      <th>4</th>\n",
       "      <td>4</td>\n",
       "      <td>2014-08-14 18:00:00</td>\n",
       "      <td>26.61</td>\n",
       "      <td>584.04</td>\n",
       "    </tr>\n",
       "    <tr>\n",
       "      <th>...</th>\n",
       "      <td>...</td>\n",
       "      <td>...</td>\n",
       "      <td>...</td>\n",
       "      <td>...</td>\n",
       "    </tr>\n",
       "    <tr>\n",
       "      <th>53992</th>\n",
       "      <td>67282</td>\n",
       "      <td>2020-11-20 10:00:00</td>\n",
       "      <td>11.73</td>\n",
       "      <td>598.92</td>\n",
       "    </tr>\n",
       "    <tr>\n",
       "      <th>53993</th>\n",
       "      <td>67283</td>\n",
       "      <td>2020-11-20 11:00:00</td>\n",
       "      <td>11.73</td>\n",
       "      <td>598.92</td>\n",
       "    </tr>\n",
       "    <tr>\n",
       "      <th>53994</th>\n",
       "      <td>67284</td>\n",
       "      <td>2020-11-20 12:00:00</td>\n",
       "      <td>11.73</td>\n",
       "      <td>598.92</td>\n",
       "    </tr>\n",
       "    <tr>\n",
       "      <th>53995</th>\n",
       "      <td>67285</td>\n",
       "      <td>2020-11-20 13:00:00</td>\n",
       "      <td>11.73</td>\n",
       "      <td>598.92</td>\n",
       "    </tr>\n",
       "    <tr>\n",
       "      <th>53996</th>\n",
       "      <td>67286</td>\n",
       "      <td>2020-11-20 14:00:00</td>\n",
       "      <td>11.73</td>\n",
       "      <td>598.92</td>\n",
       "    </tr>\n",
       "  </tbody>\n",
       "</table>\n",
       "<p>53997 rows × 4 columns</p>\n",
       "</div>"
      ],
      "text/plain": [
       "       RECORD            TIMESTAMP  depth_to_water_from_land_surface    head\n",
       "0           0  2014-08-14 14:00:00                             26.59  584.06\n",
       "1           1  2014-08-14 15:00:00                             26.58  584.07\n",
       "2           2  2014-08-14 16:00:00                             26.58  584.07\n",
       "3           3  2014-08-14 17:00:00                             26.59  584.06\n",
       "4           4  2014-08-14 18:00:00                             26.61  584.04\n",
       "...       ...                  ...                               ...     ...\n",
       "53992   67282  2020-11-20 10:00:00                             11.73  598.92\n",
       "53993   67283  2020-11-20 11:00:00                             11.73  598.92\n",
       "53994   67284  2020-11-20 12:00:00                             11.73  598.92\n",
       "53995   67285  2020-11-20 13:00:00                             11.73  598.92\n",
       "53996   67286  2020-11-20 14:00:00                             11.73  598.92\n",
       "\n",
       "[53997 rows x 4 columns]"
      ]
     },
     "execution_count": 2,
     "metadata": {},
     "output_type": "execute_result"
    }
   ],
   "source": [
    "# read a csv file from the ISWS website\n",
    "# 'http://aqueduct.isws.illinois.edu/data/381651_HRY-91C_hyd.csv'\n",
    "wellhead = pd.read_csv('http://aqueduct.isws.illinois.edu/data/381651_HRY-91C_hyd.csv')\n",
    "wellhead"
   ]
  },
  {
   "cell_type": "markdown",
   "metadata": {},
   "source": [
    "Convert the TIMESTAMP to a datetime"
   ]
  },
  {
   "cell_type": "code",
   "execution_count": 3,
   "metadata": {
    "scrolled": true
   },
   "outputs": [
    {
     "data": {
      "text/html": [
       "<div>\n",
       "<style scoped>\n",
       "    .dataframe tbody tr th:only-of-type {\n",
       "        vertical-align: middle;\n",
       "    }\n",
       "\n",
       "    .dataframe tbody tr th {\n",
       "        vertical-align: top;\n",
       "    }\n",
       "\n",
       "    .dataframe thead th {\n",
       "        text-align: right;\n",
       "    }\n",
       "</style>\n",
       "<table border=\"1\" class=\"dataframe\">\n",
       "  <thead>\n",
       "    <tr style=\"text-align: right;\">\n",
       "      <th></th>\n",
       "      <th>RECORD</th>\n",
       "      <th>TIMESTAMP</th>\n",
       "      <th>depth_to_water_from_land_surface</th>\n",
       "      <th>head</th>\n",
       "    </tr>\n",
       "  </thead>\n",
       "  <tbody>\n",
       "    <tr>\n",
       "      <th>0</th>\n",
       "      <td>0</td>\n",
       "      <td>2014-08-14 14:00:00</td>\n",
       "      <td>26.59</td>\n",
       "      <td>584.06</td>\n",
       "    </tr>\n",
       "    <tr>\n",
       "      <th>1</th>\n",
       "      <td>1</td>\n",
       "      <td>2014-08-14 15:00:00</td>\n",
       "      <td>26.58</td>\n",
       "      <td>584.07</td>\n",
       "    </tr>\n",
       "    <tr>\n",
       "      <th>2</th>\n",
       "      <td>2</td>\n",
       "      <td>2014-08-14 16:00:00</td>\n",
       "      <td>26.58</td>\n",
       "      <td>584.07</td>\n",
       "    </tr>\n",
       "    <tr>\n",
       "      <th>3</th>\n",
       "      <td>3</td>\n",
       "      <td>2014-08-14 17:00:00</td>\n",
       "      <td>26.59</td>\n",
       "      <td>584.06</td>\n",
       "    </tr>\n",
       "    <tr>\n",
       "      <th>4</th>\n",
       "      <td>4</td>\n",
       "      <td>2014-08-14 18:00:00</td>\n",
       "      <td>26.61</td>\n",
       "      <td>584.04</td>\n",
       "    </tr>\n",
       "    <tr>\n",
       "      <th>...</th>\n",
       "      <td>...</td>\n",
       "      <td>...</td>\n",
       "      <td>...</td>\n",
       "      <td>...</td>\n",
       "    </tr>\n",
       "    <tr>\n",
       "      <th>53992</th>\n",
       "      <td>67282</td>\n",
       "      <td>2020-11-20 10:00:00</td>\n",
       "      <td>11.73</td>\n",
       "      <td>598.92</td>\n",
       "    </tr>\n",
       "    <tr>\n",
       "      <th>53993</th>\n",
       "      <td>67283</td>\n",
       "      <td>2020-11-20 11:00:00</td>\n",
       "      <td>11.73</td>\n",
       "      <td>598.92</td>\n",
       "    </tr>\n",
       "    <tr>\n",
       "      <th>53994</th>\n",
       "      <td>67284</td>\n",
       "      <td>2020-11-20 12:00:00</td>\n",
       "      <td>11.73</td>\n",
       "      <td>598.92</td>\n",
       "    </tr>\n",
       "    <tr>\n",
       "      <th>53995</th>\n",
       "      <td>67285</td>\n",
       "      <td>2020-11-20 13:00:00</td>\n",
       "      <td>11.73</td>\n",
       "      <td>598.92</td>\n",
       "    </tr>\n",
       "    <tr>\n",
       "      <th>53996</th>\n",
       "      <td>67286</td>\n",
       "      <td>2020-11-20 14:00:00</td>\n",
       "      <td>11.73</td>\n",
       "      <td>598.92</td>\n",
       "    </tr>\n",
       "  </tbody>\n",
       "</table>\n",
       "<p>53997 rows × 4 columns</p>\n",
       "</div>"
      ],
      "text/plain": [
       "       RECORD           TIMESTAMP  depth_to_water_from_land_surface    head\n",
       "0           0 2014-08-14 14:00:00                             26.59  584.06\n",
       "1           1 2014-08-14 15:00:00                             26.58  584.07\n",
       "2           2 2014-08-14 16:00:00                             26.58  584.07\n",
       "3           3 2014-08-14 17:00:00                             26.59  584.06\n",
       "4           4 2014-08-14 18:00:00                             26.61  584.04\n",
       "...       ...                 ...                               ...     ...\n",
       "53992   67282 2020-11-20 10:00:00                             11.73  598.92\n",
       "53993   67283 2020-11-20 11:00:00                             11.73  598.92\n",
       "53994   67284 2020-11-20 12:00:00                             11.73  598.92\n",
       "53995   67285 2020-11-20 13:00:00                             11.73  598.92\n",
       "53996   67286 2020-11-20 14:00:00                             11.73  598.92\n",
       "\n",
       "[53997 rows x 4 columns]"
      ]
     },
     "execution_count": 3,
     "metadata": {},
     "output_type": "execute_result"
    }
   ],
   "source": [
    "wellhead['TIMESTAMP'] = pd.to_datetime(wellhead['TIMESTAMP'])\n",
    "wellhead\n",
    "\n"
   ]
  },
  {
   "cell_type": "markdown",
   "metadata": {},
   "source": [
    "It isn't always this easy, sometimes it takes a bit more formatting to get the datetime to convert properly. However, once a TIMESTAMP is converted to a datetime, it is easy to extract days, months, years, etc. "
   ]
  },
  {
   "cell_type": "code",
   "execution_count": 4,
   "metadata": {},
   "outputs": [
    {
     "name": "stdout",
     "output_type": "stream",
     "text": [
      "2014\n",
      "8\n",
      "14\n",
      "14\n",
      "0\n",
      "0\n"
     ]
    }
   ],
   "source": [
    "print(wellhead['TIMESTAMP'][0].year)\n",
    "print(wellhead['TIMESTAMP'][0].month)\n",
    "print(wellhead['TIMESTAMP'][0].day)\n",
    "print(wellhead['TIMESTAMP'][0].hour)\n",
    "print(wellhead['TIMESTAMP'][0].minute)\n",
    "print(wellhead['TIMESTAMP'][0].second)"
   ]
  },
  {
   "cell_type": "code",
   "execution_count": 5,
   "metadata": {
    "scrolled": true
   },
   "outputs": [
    {
     "data": {
      "image/png": "[encoded data removed]",
      "text/plain": [
       "<Figure size 432x288 with 1 Axes>"
      ]
     },
     "metadata": {
      "needs_background": "light"
     },
     "output_type": "display_data"
    }
   ],
   "source": [
    "plt.plot(wellhead['TIMESTAMP'],wellhead['head'])\n",
    "plt.xlim([datetime.datetime(2015,1,1),datetime.datetime(2021,1,1)])\n",
    "plt.title('Henry 91C')\n",
    "plt.ylabel('head (ft)')\n",
    "plt.xticks(rotation=30)\n",
    "plt.show()"
   ]
  },
  {
   "cell_type": "markdown",
   "metadata": {},
   "source": [
    "## Resampling\n",
    "\n",
    "Sometimes, you may not want to deal with all data, but instead take an average over a period of time. This is called resampling or binning the data, and this can be done with the timestamp object with a single line of code!"
   ]
  },
  {
   "cell_type": "code",
   "execution_count": 6,
   "metadata": {
    "scrolled": true
   },
   "outputs": [
    {
     "ename": "TypeError",
     "evalue": "Only valid with DatetimeIndex, TimedeltaIndex or PeriodIndex, but got an instance of 'RangeIndex'",
     "output_type": "error",
     "traceback": [
      "\u001b[1;31m---------------------------------------------------------------------------\u001b[0m",
      "\u001b[1;31mTypeError\u001b[0m                                 Traceback (most recent call last)",
      "\u001b[1;32m<ipython-input-6-b91ba5d93c3d>\u001b[0m in \u001b[0;36m<module>\u001b[1;34m\u001b[0m\n\u001b[0;32m      1\u001b[0m \u001b[1;31m# this code resamples the dataframe to an annual average water level\u001b[0m\u001b[1;33m\u001b[0m\u001b[1;33m\u001b[0m\u001b[1;33m\u001b[0m\u001b[0m\n\u001b[1;32m----> 2\u001b[1;33m \u001b[0mwellhead_yr\u001b[0m \u001b[1;33m=\u001b[0m \u001b[0mwellhead\u001b[0m\u001b[1;33m.\u001b[0m\u001b[0mresample\u001b[0m\u001b[1;33m(\u001b[0m\u001b[1;34m'Y'\u001b[0m\u001b[1;33m)\u001b[0m\u001b[1;33m.\u001b[0m\u001b[0mmean\u001b[0m\u001b[1;33m(\u001b[0m\u001b[1;33m)\u001b[0m\u001b[1;33m\u001b[0m\u001b[1;33m\u001b[0m\u001b[0m\n\u001b[0m\u001b[0;32m      3\u001b[0m \u001b[0mprint\u001b[0m\u001b[1;33m(\u001b[0m\u001b[0mwellhead_yr\u001b[0m\u001b[1;33m)\u001b[0m\u001b[1;33m\u001b[0m\u001b[1;33m\u001b[0m\u001b[0m\n",
      "\u001b[1;32m~\\Anaconda3\\lib\\site-packages\\pandas\\core\\generic.py\u001b[0m in \u001b[0;36mresample\u001b[1;34m(self, rule, axis, closed, label, convention, kind, loffset, base, on, level, origin, offset)\u001b[0m\n\u001b[0;32m   8075\u001b[0m \u001b[1;33m\u001b[0m\u001b[0m\n\u001b[0;32m   8076\u001b[0m         \u001b[0maxis\u001b[0m \u001b[1;33m=\u001b[0m \u001b[0mself\u001b[0m\u001b[1;33m.\u001b[0m\u001b[0m_get_axis_number\u001b[0m\u001b[1;33m(\u001b[0m\u001b[0maxis\u001b[0m\u001b[1;33m)\u001b[0m\u001b[1;33m\u001b[0m\u001b[1;33m\u001b[0m\u001b[0m\n\u001b[1;32m-> 8077\u001b[1;33m         return get_resampler(\n\u001b[0m\u001b[0;32m   8078\u001b[0m             \u001b[0mself\u001b[0m\u001b[1;33m,\u001b[0m\u001b[1;33m\u001b[0m\u001b[1;33m\u001b[0m\u001b[0m\n\u001b[0;32m   8079\u001b[0m             \u001b[0mfreq\u001b[0m\u001b[1;33m=\u001b[0m\u001b[0mrule\u001b[0m\u001b[1;33m,\u001b[0m\u001b[1;33m\u001b[0m\u001b[1;33m\u001b[0m\u001b[0m\n",
      "\u001b[1;32m~\\Anaconda3\\lib\\site-packages\\pandas\\core\\resample.py\u001b[0m in \u001b[0;36mget_resampler\u001b[1;34m(obj, kind, **kwds)\u001b[0m\n\u001b[0;32m   1267\u001b[0m     \"\"\"\n\u001b[0;32m   1268\u001b[0m     \u001b[0mtg\u001b[0m \u001b[1;33m=\u001b[0m \u001b[0mTimeGrouper\u001b[0m\u001b[1;33m(\u001b[0m\u001b[1;33m**\u001b[0m\u001b[0mkwds\u001b[0m\u001b[1;33m)\u001b[0m\u001b[1;33m\u001b[0m\u001b[1;33m\u001b[0m\u001b[0m\n\u001b[1;32m-> 1269\u001b[1;33m     \u001b[1;32mreturn\u001b[0m \u001b[0mtg\u001b[0m\u001b[1;33m.\u001b[0m\u001b[0m_get_resampler\u001b[0m\u001b[1;33m(\u001b[0m\u001b[0mobj\u001b[0m\u001b[1;33m,\u001b[0m \u001b[0mkind\u001b[0m\u001b[1;33m=\u001b[0m\u001b[0mkind\u001b[0m\u001b[1;33m)\u001b[0m\u001b[1;33m\u001b[0m\u001b[1;33m\u001b[0m\u001b[0m\n\u001b[0m\u001b[0;32m   1270\u001b[0m \u001b[1;33m\u001b[0m\u001b[0m\n\u001b[0;32m   1271\u001b[0m \u001b[1;33m\u001b[0m\u001b[0m\n",
      "\u001b[1;32m~\\Anaconda3\\lib\\site-packages\\pandas\\core\\resample.py\u001b[0m in \u001b[0;36m_get_resampler\u001b[1;34m(self, obj, kind)\u001b[0m\n\u001b[0;32m   1432\u001b[0m             \u001b[1;32mreturn\u001b[0m \u001b[0mTimedeltaIndexResampler\u001b[0m\u001b[1;33m(\u001b[0m\u001b[0mobj\u001b[0m\u001b[1;33m,\u001b[0m \u001b[0mgroupby\u001b[0m\u001b[1;33m=\u001b[0m\u001b[0mself\u001b[0m\u001b[1;33m,\u001b[0m \u001b[0maxis\u001b[0m\u001b[1;33m=\u001b[0m\u001b[0mself\u001b[0m\u001b[1;33m.\u001b[0m\u001b[0maxis\u001b[0m\u001b[1;33m)\u001b[0m\u001b[1;33m\u001b[0m\u001b[1;33m\u001b[0m\u001b[0m\n\u001b[0;32m   1433\u001b[0m \u001b[1;33m\u001b[0m\u001b[0m\n\u001b[1;32m-> 1434\u001b[1;33m         raise TypeError(\n\u001b[0m\u001b[0;32m   1435\u001b[0m             \u001b[1;34m\"Only valid with DatetimeIndex, \"\u001b[0m\u001b[1;33m\u001b[0m\u001b[1;33m\u001b[0m\u001b[0m\n\u001b[0;32m   1436\u001b[0m             \u001b[1;34m\"TimedeltaIndex or PeriodIndex, \"\u001b[0m\u001b[1;33m\u001b[0m\u001b[1;33m\u001b[0m\u001b[0m\n",
      "\u001b[1;31mTypeError\u001b[0m: Only valid with DatetimeIndex, TimedeltaIndex or PeriodIndex, but got an instance of 'RangeIndex'"
     ]
    }
   ],
   "source": [
    "# this code resamples the dataframe to an annual average water level\n",
    "wellhead_yr = wellhead.resample('Y').mean()\n",
    "print(wellhead_yr)"
   ]
  },
  {
   "cell_type": "markdown",
   "metadata": {},
   "source": [
    "Note the error here, that to resample, the index has to be formatted like a DateTime (or something similar). We have already seen in an earlier lecture how to do this, we just need to set the index equal to the TimeStamp."
   ]
  },
  {
   "cell_type": "code",
   "execution_count": 10,
   "metadata": {},
   "outputs": [
    {
     "data": {
      "text/html": [
       "<div>\n",
       "<style scoped>\n",
       "    .dataframe tbody tr th:only-of-type {\n",
       "        vertical-align: middle;\n",
       "    }\n",
       "\n",
       "    .dataframe tbody tr th {\n",
       "        vertical-align: top;\n",
       "    }\n",
       "\n",
       "    .dataframe thead th {\n",
       "        text-align: right;\n",
       "    }\n",
       "</style>\n",
       "<table border=\"1\" class=\"dataframe\">\n",
       "  <thead>\n",
       "    <tr style=\"text-align: right;\">\n",
       "      <th></th>\n",
       "      <th>RECORD</th>\n",
       "      <th>depth_to_water_from_land_surface</th>\n",
       "      <th>head</th>\n",
       "    </tr>\n",
       "    <tr>\n",
       "      <th>TIMESTAMP</th>\n",
       "      <th></th>\n",
       "      <th></th>\n",
       "      <th></th>\n",
       "    </tr>\n",
       "  </thead>\n",
       "  <tbody>\n",
       "    <tr>\n",
       "      <th>2014-12-31</th>\n",
       "      <td>1665.500000</td>\n",
       "      <td>14.707761</td>\n",
       "      <td>595.942236</td>\n",
       "    </tr>\n",
       "    <tr>\n",
       "      <th>2015-12-31</th>\n",
       "      <td>7711.500000</td>\n",
       "      <td>11.298626</td>\n",
       "      <td>599.351369</td>\n",
       "    </tr>\n",
       "    <tr>\n",
       "      <th>2016-12-31</th>\n",
       "      <td>16376.000000</td>\n",
       "      <td>9.643949</td>\n",
       "      <td>601.006050</td>\n",
       "    </tr>\n",
       "    <tr>\n",
       "      <th>2017-12-31</th>\n",
       "      <td>37584.630543</td>\n",
       "      <td>11.516226</td>\n",
       "      <td>599.133774</td>\n",
       "    </tr>\n",
       "    <tr>\n",
       "      <th>2018-12-31</th>\n",
       "      <td>46354.995890</td>\n",
       "      <td>11.783628</td>\n",
       "      <td>598.866373</td>\n",
       "    </tr>\n",
       "    <tr>\n",
       "      <th>2019-12-31</th>\n",
       "      <td>55115.160064</td>\n",
       "      <td>9.457601</td>\n",
       "      <td>601.192396</td>\n",
       "    </tr>\n",
       "    <tr>\n",
       "      <th>2020-12-31</th>\n",
       "      <td>63369.422621</td>\n",
       "      <td>13.014673</td>\n",
       "      <td>597.635328</td>\n",
       "    </tr>\n",
       "  </tbody>\n",
       "</table>\n",
       "</div>"
      ],
      "text/plain": [
       "                  RECORD  depth_to_water_from_land_surface        head\n",
       "TIMESTAMP                                                             \n",
       "2014-12-31   1665.500000                         14.707761  595.942236\n",
       "2015-12-31   7711.500000                         11.298626  599.351369\n",
       "2016-12-31  16376.000000                          9.643949  601.006050\n",
       "2017-12-31  37584.630543                         11.516226  599.133774\n",
       "2018-12-31  46354.995890                         11.783628  598.866373\n",
       "2019-12-31  55115.160064                          9.457601  601.192396\n",
       "2020-12-31  63369.422621                         13.014673  597.635328"
      ]
     },
     "execution_count": 10,
     "metadata": {},
     "output_type": "execute_result"
    }
   ],
   "source": [
    "#reassign the index to the TIMESTAMP\n",
    "wellhead.index = wellhead['TIMESTAMP']\n",
    "# this code resamples the dataframe to an annual average water level\n",
    "wellhead_yr = wellhead.resample('Y').mean()\n",
    "wellhead_yr"
   ]
  },
  {
   "cell_type": "markdown",
   "metadata": {},
   "source": [
    "The mean over a year (`Y`) was taken in every column, which isn't meaningful for the record (which was a unique id that has no physical meaning), but is very helpful for the head. Data can be resampled over other different time intervals as well, including `D` for day, `W` for week, and `M` for month. You can do a google search to find other options as well, although we won't be using those this semester (at least for the next few weeks)"
   ]
  },
  {
   "cell_type": "code",
   "execution_count": 12,
   "metadata": {
    "scrolled": true
   },
   "outputs": [
    {
     "data": {
      "text/plain": [
       "[<matplotlib.lines.Line2D at 0x20901e99e80>]"
      ]
     },
     "execution_count": 12,
     "metadata": {},
     "output_type": "execute_result"
    },
    {
     "data": {
      "image/png": "[encoded data removed]",
      "text/plain": [
       "<Figure size 432x288 with 1 Axes>"
      ]
     },
     "metadata": {
      "needs_background": "light"
     },
     "output_type": "display_data"
    }
   ],
   "source": [
    "plt.plot(wellhead_yr.index,wellhead_yr['head'])"
   ]
  },
  {
   "cell_type": "markdown",
   "metadata": {},
   "source": [
    "This tells us that the highest water levels (on average) occurred in 2016 and 2019; the lowest occurred in 2014 and 2020. In your homework, you are going to compare this to precipitation data in each year. I don't know what this will actually show; it could be interesting!"
   ]
  },
  {
   "cell_type": "markdown",
   "metadata": {},
   "source": [
    "## Now try this on your own!\n",
    "\n",
    "<b>Q1:</b> Try plotting up the maximum and minimum elevations observed in each year at Henry 91C."
   ]
  },
  {
   "cell_type": "code",
   "execution_count": null,
   "metadata": {},
   "outputs": [],
   "source": [
    "\n",
    "\n",
    "\n",
    "\n",
    "\n",
    "\n",
    "\n",
    "\n",
    "\n",
    "\n",
    "\n",
    "\n",
    "\n",
    "\n",
    "\n",
    "\n",
    "\n",
    "\n",
    "\n",
    "\n",
    "\n",
    "\n",
    "\n",
    "\n",
    "\n",
    "\n",
    "\n",
    "\n",
    "\n",
    "\n",
    "\n",
    "\n",
    "\n",
    "\n",
    "\n",
    "\n",
    "\n",
    "\n",
    "\n",
    "\n",
    "\n",
    "\n",
    "\n",
    "\n",
    "\n",
    "\n",
    "\n",
    "\n",
    "\n"
   ]
  },
  {
   "cell_type": "markdown",
   "metadata": {},
   "source": [
    "<b>ANSWER 1</b>"
   ]
  },
  {
   "cell_type": "code",
   "execution_count": 17,
   "metadata": {
    "scrolled": true
   },
   "outputs": [
    {
     "data": {
      "text/plain": [
       "<AxesSubplot:xlabel='TIMESTAMP'>"
      ]
     },
     "execution_count": 17,
     "metadata": {},
     "output_type": "execute_result"
    },
    {
     "data": {
      "image/png": "[encoded data removed]",
      "text/plain": [
       "<Figure size 432x288 with 1 Axes>"
      ]
     },
     "metadata": {
      "needs_background": "light"
     },
     "output_type": "display_data"
    }
   ],
   "source": [
    "# like above, but instead we use .min() or .max()\n",
    "wellhead_yr = wellhead.resample('Y').min() #.max()\n",
    "# Note that I am using a shortcut to plot the data in the dataframe, which uses the index for the time axis automatically.\n",
    "# This format can be limiting, but feel free to explore this formatting on your own to discover those\n",
    "wellhead_yr['head'].plot()"
   ]
  },
  {
   "cell_type": "markdown",
   "metadata": {},
   "source": [
    "<b>Q2</b>: What month had the lowest water levels in the year 2019?"
   ]
  },
  {
   "cell_type": "code",
   "execution_count": null,
   "metadata": {},
   "outputs": [],
   "source": [
    "\n",
    "\n",
    "\n",
    "\n",
    "\n",
    "\n",
    "\n",
    "\n",
    "\n",
    "\n",
    "\n",
    "\n",
    "\n",
    "\n",
    "\n",
    "\n",
    "\n",
    "\n",
    "\n",
    "\n",
    "\n",
    "\n",
    "\n",
    "\n",
    "\n",
    "\n",
    "\n",
    "\n",
    "\n",
    "\n",
    "\n",
    "\n",
    "\n",
    "\n",
    "\n",
    "\n",
    "\n",
    "\n",
    "\n",
    "\n",
    "\n",
    "\n",
    "\n"
   ]
  },
  {
   "cell_type": "markdown",
   "metadata": {},
   "source": [
    "<b>ANSWER 2</b>\n",
    "\n",
    "After plotting up 2019 data, it appears that the lowest water levels occured in August in 2019."
   ]
  },
  {
   "cell_type": "code",
   "execution_count": 28,
   "metadata": {},
   "outputs": [
    {
     "data": {
      "text/plain": [
       "(588.0, 599.0)"
      ]
     },
     "execution_count": 28,
     "metadata": {},
     "output_type": "execute_result"
    },
    {
     "data": {
      "image/png": "[encoded data removed]",
      "text/plain": [
       "<Figure size 432x288 with 1 Axes>"
      ]
     },
     "metadata": {
      "needs_background": "light"
     },
     "output_type": "display_data"
    }
   ],
   "source": [
    "# like above, but instead we use .min() or .max()\n",
    "wellhead_yr = wellhead.resample('M').min() #.max()\n",
    "# Note that I am using a shortcut to plot the data in the dataframe, which uses the index for the time axis automatically.\n",
    "# This format can be limiting, but feel free to explore this formatting on your own to discover those\n",
    "wellhead_yr['head'].plot()\n",
    "plt.xlim([datetime.datetime(2019,1,1),datetime.datetime(2019,12,31)])\n"
   ]
  },
  {
   "cell_type": "markdown",
   "metadata": {},
   "source": [
    "<a id='Estimating Recharge'></a>\n",
    "\n",
    "# Estimating Recharge\n",
    "\n",
    "After a precipitation event, a portion of the water vertically infiltrates to the aquifer, known as recharge. Recharge is measured in the same units as precipitation (length per time, commonly inches per year).  \n",
    "\n",
    "Employing hydrographs, we are going to use a simple hydrogeologic analysis known as the Water Table Fluctuation method (https://water.usgs.gov/ogw/gwrp/methods/wtf/#:~:text=Water-Table%20Fluctuation%20%28WTF%29%20Method%20The%20water-table%20fluctuation%20%28WTF%29,the%20addition%20of%20recharge%20across%20the%20water%20table.). The concept is simple, changes in groundwater head <b>might</b> indicate a change in recharge, although other factors such as pumping or changes in stream levels could also be influencing this change. Let's not worry about that now.\n",
    "\n",
    "The idea is to apply transient mass balance concepts to estimate recharge as follows:\n",
    "\n",
    "$R=\\frac{\\Delta h S_y}{t}$\n",
    "\n",
    "where $R$ is recharge ($ft/d$), $\\Delta h$ is change in head ($ft$), $S_y$ is specific yield (unitless), and time is the interval over which the head change was observed ($d$). <b>Only positive recharge is generally considered</b>\n",
    "\n",
    "Let's see how this looks on a data set from the ISWS for a monitoring well in Mason County, resampled to capture the water level every week."
   ]
  },
  {
   "cell_type": "code",
   "execution_count": 30,
   "metadata": {
    "scrolled": true
   },
   "outputs": [
    {
     "data": {
      "text/html": [
       "<div>\n",
       "<style scoped>\n",
       "    .dataframe tbody tr th:only-of-type {\n",
       "        vertical-align: middle;\n",
       "    }\n",
       "\n",
       "    .dataframe tbody tr th {\n",
       "        vertical-align: top;\n",
       "    }\n",
       "\n",
       "    .dataframe thead th {\n",
       "        text-align: right;\n",
       "    }\n",
       "</style>\n",
       "<table border=\"1\" class=\"dataframe\">\n",
       "  <thead>\n",
       "    <tr style=\"text-align: right;\">\n",
       "      <th></th>\n",
       "      <th>TIMESTAMP</th>\n",
       "      <th>GWE</th>\n",
       "      <th>method</th>\n",
       "    </tr>\n",
       "    <tr>\n",
       "      <th>TIMESTAMP</th>\n",
       "      <th></th>\n",
       "      <th></th>\n",
       "      <th></th>\n",
       "    </tr>\n",
       "  </thead>\n",
       "  <tbody>\n",
       "    <tr>\n",
       "      <th>1995-03-01 00:00:00</th>\n",
       "      <td>1995-03-01 00:00:00</td>\n",
       "      <td>479.43000</td>\n",
       "      <td>Hand Measurement</td>\n",
       "    </tr>\n",
       "    <tr>\n",
       "      <th>1995-04-01 00:00:00</th>\n",
       "      <td>1995-04-01 00:00:00</td>\n",
       "      <td>479.60000</td>\n",
       "      <td>Hand Measurement</td>\n",
       "    </tr>\n",
       "    <tr>\n",
       "      <th>1995-05-01 00:00:00</th>\n",
       "      <td>1995-05-01 00:00:00</td>\n",
       "      <td>479.89000</td>\n",
       "      <td>Hand Measurement</td>\n",
       "    </tr>\n",
       "    <tr>\n",
       "      <th>1995-06-01 00:00:00</th>\n",
       "      <td>1995-06-01 00:00:00</td>\n",
       "      <td>483.74000</td>\n",
       "      <td>Hand Measurement</td>\n",
       "    </tr>\n",
       "    <tr>\n",
       "      <th>1995-07-01 00:00:00</th>\n",
       "      <td>1995-07-01 00:00:00</td>\n",
       "      <td>483.80000</td>\n",
       "      <td>Hand Measurement</td>\n",
       "    </tr>\n",
       "    <tr>\n",
       "      <th>...</th>\n",
       "      <td>...</td>\n",
       "      <td>...</td>\n",
       "      <td>...</td>\n",
       "    </tr>\n",
       "    <tr>\n",
       "      <th>2020-09-25 10:00:00</th>\n",
       "      <td>2020-09-25 10:00:00</td>\n",
       "      <td>477.12691</td>\n",
       "      <td>Transducer</td>\n",
       "    </tr>\n",
       "    <tr>\n",
       "      <th>2020-09-25 12:00:00</th>\n",
       "      <td>2020-09-25 12:00:00</td>\n",
       "      <td>477.14457</td>\n",
       "      <td>Transducer</td>\n",
       "    </tr>\n",
       "    <tr>\n",
       "      <th>2020-09-25 13:00:00</th>\n",
       "      <td>2020-09-25 13:00:00</td>\n",
       "      <td>477.14915</td>\n",
       "      <td>Transducer</td>\n",
       "    </tr>\n",
       "    <tr>\n",
       "      <th>2020-12-01 11:02:00</th>\n",
       "      <td>2020-12-01 11:02:00</td>\n",
       "      <td>476.78000</td>\n",
       "      <td>Hand Measurement</td>\n",
       "    </tr>\n",
       "    <tr>\n",
       "      <th>2021-01-28 11:16:00</th>\n",
       "      <td>2021-01-28 11:16:00</td>\n",
       "      <td>474.65000</td>\n",
       "      <td>Hand Measurement</td>\n",
       "    </tr>\n",
       "  </tbody>\n",
       "</table>\n",
       "<p>35170 rows × 3 columns</p>\n",
       "</div>"
      ],
      "text/plain": [
       "                               TIMESTAMP        GWE            method\n",
       "TIMESTAMP                                                            \n",
       "1995-03-01 00:00:00  1995-03-01 00:00:00  479.43000  Hand Measurement\n",
       "1995-04-01 00:00:00  1995-04-01 00:00:00  479.60000  Hand Measurement\n",
       "1995-05-01 00:00:00  1995-05-01 00:00:00  479.89000  Hand Measurement\n",
       "1995-06-01 00:00:00  1995-06-01 00:00:00  483.74000  Hand Measurement\n",
       "1995-07-01 00:00:00  1995-07-01 00:00:00  483.80000  Hand Measurement\n",
       "...                                  ...        ...               ...\n",
       "2020-09-25 10:00:00  2020-09-25 10:00:00  477.12691        Transducer\n",
       "2020-09-25 12:00:00  2020-09-25 12:00:00  477.14457        Transducer\n",
       "2020-09-25 13:00:00  2020-09-25 13:00:00  477.14915        Transducer\n",
       "2020-12-01 11:02:00  2020-12-01 11:02:00  476.78000  Hand Measurement\n",
       "2021-01-28 11:16:00  2021-01-28 11:16:00  474.65000  Hand Measurement\n",
       "\n",
       "[35170 rows x 3 columns]"
      ]
     },
     "execution_count": 30,
     "metadata": {},
     "output_type": "execute_result"
    }
   ],
   "source": [
    "# https://www.isws.illinois.edu/groundwater-science/groundwater-monitoring-well-networks/imperial-valley\n",
    "wellhead = pd.read_csv('http://aqueduct.isws.illinois.edu/data/360669.csv')\n",
    "wellhead.index = pd.to_datetime(wellhead['TIMESTAMP'])\n",
    "wellhead"
   ]
  },
  {
   "cell_type": "markdown",
   "metadata": {},
   "source": [
    "A couple of notes on this. GWE is Groundwater Elevation, in feet above mean sea level. There is no depth to water, and the measurement method is included as well. You can see right away that the weekly measurements are originally taken by hand, but end with mostly transducer readings. The transducer (which measures water levels continuously) failed in late September of last year, but there is a hand measurement in December.\n",
    "\n",
    "When we do a weekly resampling, you will notice some major changes to the structure of this DataFrame."
   ]
  },
  {
   "cell_type": "code",
   "execution_count": 31,
   "metadata": {
    "scrolled": true
   },
   "outputs": [
    {
     "name": "stdout",
     "output_type": "stream",
     "text": [
      "               GWE\n",
      "TIMESTAMP         \n",
      "1995-03-05  479.43\n",
      "1995-03-12     NaN\n",
      "1995-03-19     NaN\n",
      "1995-03-26     NaN\n",
      "1995-04-02  479.60\n",
      "...            ...\n",
      "2021-01-03     NaN\n",
      "2021-01-10     NaN\n",
      "2021-01-17     NaN\n",
      "2021-01-24     NaN\n",
      "2021-01-31  474.65\n",
      "\n",
      "[1353 rows x 1 columns]\n"
     ]
    }
   ],
   "source": [
    "wellhead_w = wellhead.resample('W').mean()\n",
    "print(wellhead_w)"
   ]
  },
  {
   "cell_type": "markdown",
   "metadata": {},
   "source": [
    "We see a lot of NaN's. That simply represents weeks for which no data exists. However, we can still plot this data."
   ]
  },
  {
   "cell_type": "code",
   "execution_count": 32,
   "metadata": {},
   "outputs": [
    {
     "data": {
      "image/png": "[encoded data removed]",
      "text/plain": [
       "<Figure size 432x288 with 1 Axes>"
      ]
     },
     "metadata": {
      "needs_background": "light"
     },
     "output_type": "display_data"
    }
   ],
   "source": [
    "# default is to plot a continuous line\n",
    "wellhead_w.GWE.plot()\n",
    "plt.title('Wildlife Refuge Well')\n",
    "plt.ylabel('head (ft)')\n",
    "plt.xticks(rotation=30)\n",
    "plt.show()"
   ]
  },
  {
   "cell_type": "markdown",
   "metadata": {},
   "source": [
    "There is a lot of missing data that will prove problematic here.  Option 1 is to plot points, which are missed with this continuous line. "
   ]
  },
  {
   "cell_type": "code",
   "execution_count": 34,
   "metadata": {},
   "outputs": [
    {
     "data": {
      "image/png": "[encoded data removed]",
      "text/plain": [
       "<Figure size 432x288 with 1 Axes>"
      ]
     },
     "metadata": {
      "needs_background": "light"
     },
     "output_type": "display_data"
    }
   ],
   "source": [
    "# we can assign points so that we can see all the data\n",
    "wellhead_w.GWE.plot(marker='o')\n",
    "plt.title('Wildlife Refuge Well')\n",
    "plt.ylabel('head (ft)')\n",
    "plt.xticks(rotation=30)\n",
    "plt.show()"
   ]
  },
  {
   "cell_type": "markdown",
   "metadata": {},
   "source": [
    "For our analysis, let's just use the (continuous) transducer data. This brings up a new important concept- how to trim a dataframe based on a certain condition. In this case, we want a new dataframe that only includes tranducer data. This is relatively easy to do, and the code takes the following form:"
   ]
  },
  {
   "cell_type": "code",
   "execution_count": 35,
   "metadata": {},
   "outputs": [
    {
     "data": {
      "text/html": [
       "<div>\n",
       "<style scoped>\n",
       "    .dataframe tbody tr th:only-of-type {\n",
       "        vertical-align: middle;\n",
       "    }\n",
       "\n",
       "    .dataframe tbody tr th {\n",
       "        vertical-align: top;\n",
       "    }\n",
       "\n",
       "    .dataframe thead th {\n",
       "        text-align: right;\n",
       "    }\n",
       "</style>\n",
       "<table border=\"1\" class=\"dataframe\">\n",
       "  <thead>\n",
       "    <tr style=\"text-align: right;\">\n",
       "      <th></th>\n",
       "      <th>TIMESTAMP</th>\n",
       "      <th>GWE</th>\n",
       "      <th>method</th>\n",
       "    </tr>\n",
       "    <tr>\n",
       "      <th>TIMESTAMP</th>\n",
       "      <th></th>\n",
       "      <th></th>\n",
       "      <th></th>\n",
       "    </tr>\n",
       "  </thead>\n",
       "  <tbody>\n",
       "    <tr>\n",
       "      <th>2016-08-24 10:00:00</th>\n",
       "      <td>2016-08-24 10:00:00</td>\n",
       "      <td>475.83576</td>\n",
       "      <td>Transducer</td>\n",
       "    </tr>\n",
       "    <tr>\n",
       "      <th>2016-08-24 11:00:00</th>\n",
       "      <td>2016-08-24 11:00:00</td>\n",
       "      <td>475.83372</td>\n",
       "      <td>Transducer</td>\n",
       "    </tr>\n",
       "    <tr>\n",
       "      <th>2016-08-24 12:00:00</th>\n",
       "      <td>2016-08-24 12:00:00</td>\n",
       "      <td>475.83812</td>\n",
       "      <td>Transducer</td>\n",
       "    </tr>\n",
       "    <tr>\n",
       "      <th>2016-08-24 13:00:00</th>\n",
       "      <td>2016-08-24 13:00:00</td>\n",
       "      <td>475.84197</td>\n",
       "      <td>Transducer</td>\n",
       "    </tr>\n",
       "    <tr>\n",
       "      <th>2016-08-24 14:00:00</th>\n",
       "      <td>2016-08-24 14:00:00</td>\n",
       "      <td>475.84347</td>\n",
       "      <td>Transducer</td>\n",
       "    </tr>\n",
       "    <tr>\n",
       "      <th>...</th>\n",
       "      <td>...</td>\n",
       "      <td>...</td>\n",
       "      <td>...</td>\n",
       "    </tr>\n",
       "    <tr>\n",
       "      <th>2020-09-22 15:00:00</th>\n",
       "      <td>2020-09-22 15:00:00</td>\n",
       "      <td>NaN</td>\n",
       "      <td>Transducer</td>\n",
       "    </tr>\n",
       "    <tr>\n",
       "      <th>2020-09-22 16:00:00</th>\n",
       "      <td>2020-09-22 16:00:00</td>\n",
       "      <td>NaN</td>\n",
       "      <td>Transducer</td>\n",
       "    </tr>\n",
       "    <tr>\n",
       "      <th>2020-09-25 10:00:00</th>\n",
       "      <td>2020-09-25 10:00:00</td>\n",
       "      <td>477.12691</td>\n",
       "      <td>Transducer</td>\n",
       "    </tr>\n",
       "    <tr>\n",
       "      <th>2020-09-25 12:00:00</th>\n",
       "      <td>2020-09-25 12:00:00</td>\n",
       "      <td>477.14457</td>\n",
       "      <td>Transducer</td>\n",
       "    </tr>\n",
       "    <tr>\n",
       "      <th>2020-09-25 13:00:00</th>\n",
       "      <td>2020-09-25 13:00:00</td>\n",
       "      <td>477.14915</td>\n",
       "      <td>Transducer</td>\n",
       "    </tr>\n",
       "  </tbody>\n",
       "</table>\n",
       "<p>34971 rows × 3 columns</p>\n",
       "</div>"
      ],
      "text/plain": [
       "                               TIMESTAMP        GWE      method\n",
       "TIMESTAMP                                                      \n",
       "2016-08-24 10:00:00  2016-08-24 10:00:00  475.83576  Transducer\n",
       "2016-08-24 11:00:00  2016-08-24 11:00:00  475.83372  Transducer\n",
       "2016-08-24 12:00:00  2016-08-24 12:00:00  475.83812  Transducer\n",
       "2016-08-24 13:00:00  2016-08-24 13:00:00  475.84197  Transducer\n",
       "2016-08-24 14:00:00  2016-08-24 14:00:00  475.84347  Transducer\n",
       "...                                  ...        ...         ...\n",
       "2020-09-22 15:00:00  2020-09-22 15:00:00        NaN  Transducer\n",
       "2020-09-22 16:00:00  2020-09-22 16:00:00        NaN  Transducer\n",
       "2020-09-25 10:00:00  2020-09-25 10:00:00  477.12691  Transducer\n",
       "2020-09-25 12:00:00  2020-09-25 12:00:00  477.14457  Transducer\n",
       "2020-09-25 13:00:00  2020-09-25 13:00:00  477.14915  Transducer\n",
       "\n",
       "[34971 rows x 3 columns]"
      ]
     },
     "execution_count": 35,
     "metadata": {},
     "output_type": "execute_result"
    }
   ],
   "source": [
    "wellhead2 = wellhead[wellhead['method']=='Transducer']\n",
    "wellhead2"
   ]
  },
  {
   "cell_type": "markdown",
   "metadata": {},
   "source": [
    "This syntax might take a little getting used to, but let's break it down. The code `wellhead['method']=='Transducer'` determines for each line in the dataframe where the relationship is true or false, and is accompanied by the index of the dataframe. "
   ]
  },
  {
   "cell_type": "code",
   "execution_count": 36,
   "metadata": {},
   "outputs": [
    {
     "data": {
      "text/plain": [
       "TIMESTAMP\n",
       "1995-03-01 00:00:00    False\n",
       "1995-04-01 00:00:00    False\n",
       "1995-05-01 00:00:00    False\n",
       "1995-06-01 00:00:00    False\n",
       "1995-07-01 00:00:00    False\n",
       "                       ...  \n",
       "2020-09-25 10:00:00     True\n",
       "2020-09-25 12:00:00     True\n",
       "2020-09-25 13:00:00     True\n",
       "2020-12-01 11:02:00    False\n",
       "2021-01-28 11:16:00    False\n",
       "Name: method, Length: 35170, dtype: bool"
      ]
     },
     "execution_count": 36,
     "metadata": {},
     "output_type": "execute_result"
    }
   ],
   "source": [
    "wellhead = pd.read_csv('http://aqueduct.isws.illinois.edu/data/360669.csv')\n",
    "wellhead.index = pd.to_datetime(wellhead['TIMESTAMP'])\n",
    "wellhead['method']=='Transducer'"
   ]
  },
  {
   "cell_type": "markdown",
   "metadata": {},
   "source": [
    "The following code takes this binary `True` and `False` output and selects from the dataframe only those lines where the condition is true. "
   ]
  },
  {
   "cell_type": "code",
   "execution_count": 37,
   "metadata": {},
   "outputs": [
    {
     "data": {
      "text/html": [
       "<div>\n",
       "<style scoped>\n",
       "    .dataframe tbody tr th:only-of-type {\n",
       "        vertical-align: middle;\n",
       "    }\n",
       "\n",
       "    .dataframe tbody tr th {\n",
       "        vertical-align: top;\n",
       "    }\n",
       "\n",
       "    .dataframe thead th {\n",
       "        text-align: right;\n",
       "    }\n",
       "</style>\n",
       "<table border=\"1\" class=\"dataframe\">\n",
       "  <thead>\n",
       "    <tr style=\"text-align: right;\">\n",
       "      <th></th>\n",
       "      <th>TIMESTAMP</th>\n",
       "      <th>GWE</th>\n",
       "      <th>method</th>\n",
       "    </tr>\n",
       "    <tr>\n",
       "      <th>TIMESTAMP</th>\n",
       "      <th></th>\n",
       "      <th></th>\n",
       "      <th></th>\n",
       "    </tr>\n",
       "  </thead>\n",
       "  <tbody>\n",
       "    <tr>\n",
       "      <th>2016-08-24 10:00:00</th>\n",
       "      <td>2016-08-24 10:00:00</td>\n",
       "      <td>475.83576</td>\n",
       "      <td>Transducer</td>\n",
       "    </tr>\n",
       "    <tr>\n",
       "      <th>2016-08-24 11:00:00</th>\n",
       "      <td>2016-08-24 11:00:00</td>\n",
       "      <td>475.83372</td>\n",
       "      <td>Transducer</td>\n",
       "    </tr>\n",
       "    <tr>\n",
       "      <th>2016-08-24 12:00:00</th>\n",
       "      <td>2016-08-24 12:00:00</td>\n",
       "      <td>475.83812</td>\n",
       "      <td>Transducer</td>\n",
       "    </tr>\n",
       "    <tr>\n",
       "      <th>2016-08-24 13:00:00</th>\n",
       "      <td>2016-08-24 13:00:00</td>\n",
       "      <td>475.84197</td>\n",
       "      <td>Transducer</td>\n",
       "    </tr>\n",
       "    <tr>\n",
       "      <th>2016-08-24 14:00:00</th>\n",
       "      <td>2016-08-24 14:00:00</td>\n",
       "      <td>475.84347</td>\n",
       "      <td>Transducer</td>\n",
       "    </tr>\n",
       "    <tr>\n",
       "      <th>...</th>\n",
       "      <td>...</td>\n",
       "      <td>...</td>\n",
       "      <td>...</td>\n",
       "    </tr>\n",
       "    <tr>\n",
       "      <th>2020-09-22 15:00:00</th>\n",
       "      <td>2020-09-22 15:00:00</td>\n",
       "      <td>NaN</td>\n",
       "      <td>Transducer</td>\n",
       "    </tr>\n",
       "    <tr>\n",
       "      <th>2020-09-22 16:00:00</th>\n",
       "      <td>2020-09-22 16:00:00</td>\n",
       "      <td>NaN</td>\n",
       "      <td>Transducer</td>\n",
       "    </tr>\n",
       "    <tr>\n",
       "      <th>2020-09-25 10:00:00</th>\n",
       "      <td>2020-09-25 10:00:00</td>\n",
       "      <td>477.12691</td>\n",
       "      <td>Transducer</td>\n",
       "    </tr>\n",
       "    <tr>\n",
       "      <th>2020-09-25 12:00:00</th>\n",
       "      <td>2020-09-25 12:00:00</td>\n",
       "      <td>477.14457</td>\n",
       "      <td>Transducer</td>\n",
       "    </tr>\n",
       "    <tr>\n",
       "      <th>2020-09-25 13:00:00</th>\n",
       "      <td>2020-09-25 13:00:00</td>\n",
       "      <td>477.14915</td>\n",
       "      <td>Transducer</td>\n",
       "    </tr>\n",
       "  </tbody>\n",
       "</table>\n",
       "<p>34971 rows × 3 columns</p>\n",
       "</div>"
      ],
      "text/plain": [
       "                               TIMESTAMP        GWE      method\n",
       "TIMESTAMP                                                      \n",
       "2016-08-24 10:00:00  2016-08-24 10:00:00  475.83576  Transducer\n",
       "2016-08-24 11:00:00  2016-08-24 11:00:00  475.83372  Transducer\n",
       "2016-08-24 12:00:00  2016-08-24 12:00:00  475.83812  Transducer\n",
       "2016-08-24 13:00:00  2016-08-24 13:00:00  475.84197  Transducer\n",
       "2016-08-24 14:00:00  2016-08-24 14:00:00  475.84347  Transducer\n",
       "...                                  ...        ...         ...\n",
       "2020-09-22 15:00:00  2020-09-22 15:00:00        NaN  Transducer\n",
       "2020-09-22 16:00:00  2020-09-22 16:00:00        NaN  Transducer\n",
       "2020-09-25 10:00:00  2020-09-25 10:00:00  477.12691  Transducer\n",
       "2020-09-25 12:00:00  2020-09-25 12:00:00  477.14457  Transducer\n",
       "2020-09-25 13:00:00  2020-09-25 13:00:00  477.14915  Transducer\n",
       "\n",
       "[34971 rows x 3 columns]"
      ]
     },
     "execution_count": 37,
     "metadata": {},
     "output_type": "execute_result"
    }
   ],
   "source": [
    "wellhead[wellhead['method']=='Transducer']"
   ]
  },
  {
   "cell_type": "markdown",
   "metadata": {},
   "source": [
    "Similarly, we could create a dataframe where elevations are only greater than a value (let's just use 476 ft as an example) using the following code:"
   ]
  },
  {
   "cell_type": "code",
   "execution_count": 38,
   "metadata": {},
   "outputs": [
    {
     "data": {
      "text/html": [
       "<div>\n",
       "<style scoped>\n",
       "    .dataframe tbody tr th:only-of-type {\n",
       "        vertical-align: middle;\n",
       "    }\n",
       "\n",
       "    .dataframe tbody tr th {\n",
       "        vertical-align: top;\n",
       "    }\n",
       "\n",
       "    .dataframe thead th {\n",
       "        text-align: right;\n",
       "    }\n",
       "</style>\n",
       "<table border=\"1\" class=\"dataframe\">\n",
       "  <thead>\n",
       "    <tr style=\"text-align: right;\">\n",
       "      <th></th>\n",
       "      <th>TIMESTAMP</th>\n",
       "      <th>GWE</th>\n",
       "      <th>method</th>\n",
       "    </tr>\n",
       "    <tr>\n",
       "      <th>TIMESTAMP</th>\n",
       "      <th></th>\n",
       "      <th></th>\n",
       "      <th></th>\n",
       "    </tr>\n",
       "  </thead>\n",
       "  <tbody>\n",
       "    <tr>\n",
       "      <th>1995-03-01 00:00:00</th>\n",
       "      <td>1995-03-01 00:00:00</td>\n",
       "      <td>479.43000</td>\n",
       "      <td>Hand Measurement</td>\n",
       "    </tr>\n",
       "    <tr>\n",
       "      <th>1995-04-01 00:00:00</th>\n",
       "      <td>1995-04-01 00:00:00</td>\n",
       "      <td>479.60000</td>\n",
       "      <td>Hand Measurement</td>\n",
       "    </tr>\n",
       "    <tr>\n",
       "      <th>1995-05-01 00:00:00</th>\n",
       "      <td>1995-05-01 00:00:00</td>\n",
       "      <td>479.89000</td>\n",
       "      <td>Hand Measurement</td>\n",
       "    </tr>\n",
       "    <tr>\n",
       "      <th>1995-06-01 00:00:00</th>\n",
       "      <td>1995-06-01 00:00:00</td>\n",
       "      <td>483.74000</td>\n",
       "      <td>Hand Measurement</td>\n",
       "    </tr>\n",
       "    <tr>\n",
       "      <th>1995-07-01 00:00:00</th>\n",
       "      <td>1995-07-01 00:00:00</td>\n",
       "      <td>483.80000</td>\n",
       "      <td>Hand Measurement</td>\n",
       "    </tr>\n",
       "    <tr>\n",
       "      <th>...</th>\n",
       "      <td>...</td>\n",
       "      <td>...</td>\n",
       "      <td>...</td>\n",
       "    </tr>\n",
       "    <tr>\n",
       "      <th>2020-09-22 13:00:00</th>\n",
       "      <td>2020-09-22 13:00:00</td>\n",
       "      <td>477.18900</td>\n",
       "      <td>Transducer</td>\n",
       "    </tr>\n",
       "    <tr>\n",
       "      <th>2020-09-25 10:00:00</th>\n",
       "      <td>2020-09-25 10:00:00</td>\n",
       "      <td>477.12691</td>\n",
       "      <td>Transducer</td>\n",
       "    </tr>\n",
       "    <tr>\n",
       "      <th>2020-09-25 12:00:00</th>\n",
       "      <td>2020-09-25 12:00:00</td>\n",
       "      <td>477.14457</td>\n",
       "      <td>Transducer</td>\n",
       "    </tr>\n",
       "    <tr>\n",
       "      <th>2020-09-25 13:00:00</th>\n",
       "      <td>2020-09-25 13:00:00</td>\n",
       "      <td>477.14915</td>\n",
       "      <td>Transducer</td>\n",
       "    </tr>\n",
       "    <tr>\n",
       "      <th>2020-12-01 11:02:00</th>\n",
       "      <td>2020-12-01 11:02:00</td>\n",
       "      <td>476.78000</td>\n",
       "      <td>Hand Measurement</td>\n",
       "    </tr>\n",
       "  </tbody>\n",
       "</table>\n",
       "<p>12047 rows × 3 columns</p>\n",
       "</div>"
      ],
      "text/plain": [
       "                               TIMESTAMP        GWE            method\n",
       "TIMESTAMP                                                            \n",
       "1995-03-01 00:00:00  1995-03-01 00:00:00  479.43000  Hand Measurement\n",
       "1995-04-01 00:00:00  1995-04-01 00:00:00  479.60000  Hand Measurement\n",
       "1995-05-01 00:00:00  1995-05-01 00:00:00  479.89000  Hand Measurement\n",
       "1995-06-01 00:00:00  1995-06-01 00:00:00  483.74000  Hand Measurement\n",
       "1995-07-01 00:00:00  1995-07-01 00:00:00  483.80000  Hand Measurement\n",
       "...                                  ...        ...               ...\n",
       "2020-09-22 13:00:00  2020-09-22 13:00:00  477.18900        Transducer\n",
       "2020-09-25 10:00:00  2020-09-25 10:00:00  477.12691        Transducer\n",
       "2020-09-25 12:00:00  2020-09-25 12:00:00  477.14457        Transducer\n",
       "2020-09-25 13:00:00  2020-09-25 13:00:00  477.14915        Transducer\n",
       "2020-12-01 11:02:00  2020-12-01 11:02:00  476.78000  Hand Measurement\n",
       "\n",
       "[12047 rows x 3 columns]"
      ]
     },
     "execution_count": 38,
     "metadata": {},
     "output_type": "execute_result"
    }
   ],
   "source": [
    "wellhead[wellhead['GWE']>476]"
   ]
  },
  {
   "cell_type": "markdown",
   "metadata": {},
   "source": [
    "We've been experimenting a lot with this dataframe, so just to make sure, let's re-run our code in a single block, from importing data to resampling weekly. "
   ]
  },
  {
   "cell_type": "code",
   "execution_count": 42,
   "metadata": {},
   "outputs": [
    {
     "data": {
      "image/png": "[encoded data removed]",
      "text/plain": [
       "<Figure size 432x288 with 1 Axes>"
      ]
     },
     "metadata": {
      "needs_background": "light"
     },
     "output_type": "display_data"
    }
   ],
   "source": [
    "dstart = datetime.datetime(2015,4,1)\n",
    "\n",
    "\n",
    "wellhead = pd.read_csv('http://aqueduct.isws.illinois.edu/data/360669.csv')\n",
    "wellhead.index = pd.to_datetime(wellhead['TIMESTAMP'])\n",
    "wellhead = wellhead[wellhead['method']=='Transducer']\n",
    "wellhead_w = wellhead.resample('W').mean()\n",
    "wellhead_w.GWE.plot()\n",
    "# you may want to experiment with what plt.show() actually does here be commenting it on or off\n",
    "plt.show()\n"
   ]
  },
  {
   "cell_type": "markdown",
   "metadata": {},
   "source": [
    "### Calculating $\\Delta h$\n",
    "\n",
    "Now let's calculate the head differences between points in time. "
   ]
  },
  {
   "cell_type": "markdown",
   "metadata": {},
   "source": [
    "We need to calculate the difference in the average heads over each weekly interval. To do this, we simply take the difference between the head and the shifted head using the function `shift()`. "
   ]
  },
  {
   "cell_type": "code",
   "execution_count": 43,
   "metadata": {},
   "outputs": [
    {
     "name": "stdout",
     "output_type": "stream",
     "text": [
      "                   GWE\n",
      "TIMESTAMP             \n",
      "2016-08-28  475.811092\n",
      "2016-09-04  475.759444\n",
      "2016-09-11  475.723483\n",
      "2016-09-18  475.909658\n",
      "2016-09-25  476.006363\n",
      "...                ...\n",
      "2020-08-30  477.717467\n",
      "2020-09-06  477.593314\n",
      "2020-09-13  477.318871\n",
      "2020-09-20  477.228369\n",
      "2020-09-27  477.168958\n",
      "\n",
      "[214 rows x 1 columns]\n"
     ]
    }
   ],
   "source": [
    "print(wellhead_w)"
   ]
  },
  {
   "cell_type": "code",
   "execution_count": 44,
   "metadata": {
    "scrolled": false
   },
   "outputs": [
    {
     "data": {
      "text/html": [
       "<div>\n",
       "<style scoped>\n",
       "    .dataframe tbody tr th:only-of-type {\n",
       "        vertical-align: middle;\n",
       "    }\n",
       "\n",
       "    .dataframe tbody tr th {\n",
       "        vertical-align: top;\n",
       "    }\n",
       "\n",
       "    .dataframe thead th {\n",
       "        text-align: right;\n",
       "    }\n",
       "</style>\n",
       "<table border=\"1\" class=\"dataframe\">\n",
       "  <thead>\n",
       "    <tr style=\"text-align: right;\">\n",
       "      <th></th>\n",
       "      <th>GWE</th>\n",
       "      <th>deltah</th>\n",
       "    </tr>\n",
       "    <tr>\n",
       "      <th>TIMESTAMP</th>\n",
       "      <th></th>\n",
       "      <th></th>\n",
       "    </tr>\n",
       "  </thead>\n",
       "  <tbody>\n",
       "    <tr>\n",
       "      <th>2016-08-28</th>\n",
       "      <td>475.811092</td>\n",
       "      <td>NaN</td>\n",
       "    </tr>\n",
       "    <tr>\n",
       "      <th>2016-09-04</th>\n",
       "      <td>475.759444</td>\n",
       "      <td>-0.051648</td>\n",
       "    </tr>\n",
       "    <tr>\n",
       "      <th>2016-09-11</th>\n",
       "      <td>475.723483</td>\n",
       "      <td>-0.035961</td>\n",
       "    </tr>\n",
       "    <tr>\n",
       "      <th>2016-09-18</th>\n",
       "      <td>475.909658</td>\n",
       "      <td>0.186175</td>\n",
       "    </tr>\n",
       "    <tr>\n",
       "      <th>2016-09-25</th>\n",
       "      <td>476.006363</td>\n",
       "      <td>0.096704</td>\n",
       "    </tr>\n",
       "    <tr>\n",
       "      <th>...</th>\n",
       "      <td>...</td>\n",
       "      <td>...</td>\n",
       "    </tr>\n",
       "    <tr>\n",
       "      <th>2020-08-30</th>\n",
       "      <td>477.717467</td>\n",
       "      <td>-0.195199</td>\n",
       "    </tr>\n",
       "    <tr>\n",
       "      <th>2020-09-06</th>\n",
       "      <td>477.593314</td>\n",
       "      <td>-0.124153</td>\n",
       "    </tr>\n",
       "    <tr>\n",
       "      <th>2020-09-13</th>\n",
       "      <td>477.318871</td>\n",
       "      <td>-0.274443</td>\n",
       "    </tr>\n",
       "    <tr>\n",
       "      <th>2020-09-20</th>\n",
       "      <td>477.228369</td>\n",
       "      <td>-0.090502</td>\n",
       "    </tr>\n",
       "    <tr>\n",
       "      <th>2020-09-27</th>\n",
       "      <td>477.168958</td>\n",
       "      <td>-0.059411</td>\n",
       "    </tr>\n",
       "  </tbody>\n",
       "</table>\n",
       "<p>214 rows × 2 columns</p>\n",
       "</div>"
      ],
      "text/plain": [
       "                   GWE    deltah\n",
       "TIMESTAMP                       \n",
       "2016-08-28  475.811092       NaN\n",
       "2016-09-04  475.759444 -0.051648\n",
       "2016-09-11  475.723483 -0.035961\n",
       "2016-09-18  475.909658  0.186175\n",
       "2016-09-25  476.006363  0.096704\n",
       "...                ...       ...\n",
       "2020-08-30  477.717467 -0.195199\n",
       "2020-09-06  477.593314 -0.124153\n",
       "2020-09-13  477.318871 -0.274443\n",
       "2020-09-20  477.228369 -0.090502\n",
       "2020-09-27  477.168958 -0.059411\n",
       "\n",
       "[214 rows x 2 columns]"
      ]
     },
     "execution_count": 44,
     "metadata": {},
     "output_type": "execute_result"
    }
   ],
   "source": [
    "wellhead_w['deltah'] = wellhead_w['GWE']-wellhead_w['GWE'].shift()\n",
    "wellhead_w"
   ]
  },
  {
   "cell_type": "markdown",
   "metadata": {},
   "source": [
    "Okay, I intentionally tackled a few steps there, but we need to walk through that again. What is shift doing here? Let's take a closer look:"
   ]
  },
  {
   "cell_type": "code",
   "execution_count": 45,
   "metadata": {},
   "outputs": [
    {
     "data": {
      "text/plain": [
       "TIMESTAMP\n",
       "2016-08-28    475.811092\n",
       "2016-09-04    475.759444\n",
       "2016-09-11    475.723483\n",
       "2016-09-18    475.909658\n",
       "2016-09-25    476.006363\n",
       "                 ...    \n",
       "2020-08-30    477.717467\n",
       "2020-09-06    477.593314\n",
       "2020-09-13    477.318871\n",
       "2020-09-20    477.228369\n",
       "2020-09-27    477.168958\n",
       "Freq: W-SUN, Name: GWE, Length: 214, dtype: float64"
      ]
     },
     "execution_count": 45,
     "metadata": {},
     "output_type": "execute_result"
    }
   ],
   "source": [
    "#here is the original data\n",
    "wellhead_w['GWE']"
   ]
  },
  {
   "cell_type": "code",
   "execution_count": 46,
   "metadata": {},
   "outputs": [
    {
     "data": {
      "text/plain": [
       "TIMESTAMP\n",
       "2016-08-28           NaN\n",
       "2016-09-04    475.811092\n",
       "2016-09-11    475.759444\n",
       "2016-09-18    475.723483\n",
       "2016-09-25    475.909658\n",
       "                 ...    \n",
       "2020-08-30    477.912667\n",
       "2020-09-06    477.717467\n",
       "2020-09-13    477.593314\n",
       "2020-09-20    477.318871\n",
       "2020-09-27    477.228369\n",
       "Freq: W-SUN, Name: GWE, Length: 214, dtype: float64"
      ]
     },
     "execution_count": 46,
     "metadata": {},
     "output_type": "execute_result"
    }
   ],
   "source": [
    "# and the shifted data\n",
    "wellhead_w['GWE'].shift()"
   ]
  },
  {
   "cell_type": "markdown",
   "metadata": {},
   "source": [
    "The index does not change, nor does the length. However, the first value has been pushed down by one, replaced with an NaN. NaN's are just Pandas/Pythons way of defining \"Not a Number\", we'll take care of that next. \n",
    "\n",
    "What are we really doing by shifting values? Well, if we subtract the two columns from one another, we are really taking the difference from the head in the previous day (given by the shifted value) and the head in the current day (given by the unshifted value). In other words, the difference on `2016-09-04` between the two is 475.76 (the actual head on that day) minus 475.81 (the head on the previous day). The head went down in this case, so the negative sign that is yielded by the difference makes sense.  "
   ]
  },
  {
   "cell_type": "markdown",
   "metadata": {},
   "source": [
    "Scrolling back up, you can see that the value calculated as `delta h` for the first time interval is an `NaN`. Our next math steps will become complicated when NaNs are present, as happens in the first delta_h. Let's fill that value in with a float by backfilling values (NaNs are set equal to the next value). "
   ]
  },
  {
   "cell_type": "code",
   "execution_count": 47,
   "metadata": {
    "scrolled": false
   },
   "outputs": [
    {
     "name": "stdout",
     "output_type": "stream",
     "text": [
      "                   GWE    deltah\n",
      "TIMESTAMP                       \n",
      "2016-08-28  475.811092 -0.051648\n",
      "2016-09-04  475.759444 -0.051648\n",
      "2016-09-11  475.723483 -0.035961\n",
      "2016-09-18  475.909658  0.186175\n",
      "2016-09-25  476.006363  0.096704\n",
      "...                ...       ...\n",
      "2020-08-30  477.717467 -0.195199\n",
      "2020-09-06  477.593314 -0.124153\n",
      "2020-09-13  477.318871 -0.274443\n",
      "2020-09-20  477.228369 -0.090502\n",
      "2020-09-27  477.168958 -0.059411\n",
      "\n",
      "[214 rows x 2 columns]\n"
     ]
    }
   ],
   "source": [
    "wellhead_w = wellhead_w.fillna(method='bfill')\n",
    "print(wellhead_w)"
   ]
  },
  {
   "cell_type": "markdown",
   "metadata": {},
   "source": [
    "### Estimate recharge\n",
    "Recall that our goal is to calculate recharge usig the Water Table Fluctuation method, which requires specific yield $S_y$ and time interval $\\Delta t$. For simplicity, let's assume that $S_y$ is equal to 0.2 (we will see later if this actually makes sense) and a time interval of 7 days (consistent with our resampling of 1 week)."
   ]
  },
  {
   "cell_type": "code",
   "execution_count": 49,
   "metadata": {
    "scrolled": true
   },
   "outputs": [
    {
     "name": "stdout",
     "output_type": "stream",
     "text": [
      "                   GWE    deltah  recharge\n",
      "TIMESTAMP                                 \n",
      "2016-08-28  475.811092 -0.051648 -0.001476\n",
      "2016-09-04  475.759444 -0.051648 -0.001476\n",
      "2016-09-11  475.723483 -0.035961 -0.001027\n",
      "2016-09-18  475.909658  0.186175  0.005319\n",
      "2016-09-25  476.006363  0.096704  0.002763\n",
      "...                ...       ...       ...\n",
      "2020-08-30  477.717467 -0.195199 -0.005577\n",
      "2020-09-06  477.593314 -0.124153 -0.003547\n",
      "2020-09-13  477.318871 -0.274443 -0.007841\n",
      "2020-09-20  477.228369 -0.090502 -0.002586\n",
      "2020-09-27  477.168958 -0.059411 -0.001697\n",
      "\n",
      "[214 rows x 3 columns]\n"
     ]
    }
   ],
   "source": [
    "sy = 0.2\n",
    "timeint = 7\n",
    "\n",
    "wellhead_w['recharge'] = sy*wellhead_w['deltah']/timeint\n",
    "print(wellhead_w)\n"
   ]
  },
  {
   "cell_type": "code",
   "execution_count": 50,
   "metadata": {},
   "outputs": [
    {
     "data": {
      "text/plain": [
       "<AxesSubplot:xlabel='TIMESTAMP'>"
      ]
     },
     "execution_count": 50,
     "metadata": {},
     "output_type": "execute_result"
    },
    {
     "data": {
      "image/png": "[encoded data removed]",
      "text/plain": [
       "<Figure size 432x288 with 1 Axes>"
      ]
     },
     "metadata": {
      "needs_background": "light"
     },
     "output_type": "display_data"
    }
   ],
   "source": [
    "wellhead_w['recharge'].plot()"
   ]
  },
  {
   "cell_type": "markdown",
   "metadata": {},
   "source": [
    "So close, but there are a lot of negative recharge values here. The Water Table Fluctation method as defined by the USGS as only positive recharge values, negative values should be set to 0 recharge."
   ]
  },
  {
   "cell_type": "markdown",
   "metadata": {},
   "source": [
    "Here's a nifty little code that does this for you."
   ]
  },
  {
   "cell_type": "code",
   "execution_count": 51,
   "metadata": {},
   "outputs": [
    {
     "data": {
      "text/plain": [
       "<AxesSubplot:xlabel='TIMESTAMP'>"
      ]
     },
     "execution_count": 51,
     "metadata": {},
     "output_type": "execute_result"
    },
    {
     "data": {
      "image/png": "[encoded data removed]",
      "text/plain": [
       "<Figure size 432x288 with 1 Axes>"
      ]
     },
     "metadata": {
      "needs_background": "light"
     },
     "output_type": "display_data"
    }
   ],
   "source": [
    "# Write a code that sets negative values equal to zero\n",
    "wellhead_w[wellhead_w['recharge']<0]=0\n",
    "wellhead_w['recharge'].plot()"
   ]
  },
  {
   "cell_type": "markdown",
   "metadata": {},
   "source": [
    "### Plot head and recharge data\n",
    "\n",
    "We want to observe the relationship between head changes and recharge. Let's plot both up. Note that we add a title based on the original url. "
   ]
  },
  {
   "cell_type": "code",
   "execution_count": 53,
   "metadata": {},
   "outputs": [
    {
     "data": {
      "image/png": "[encoded data removed]",
      "text/plain": [
       "<Figure size 432x288 with 1 Axes>"
      ]
     },
     "metadata": {
      "needs_background": "light"
     },
     "output_type": "display_data"
    },
    {
     "data": {
      "image/png": "[encoded data removed]",
      "text/plain": [
       "<Figure size 432x288 with 1 Axes>"
      ]
     },
     "metadata": {
      "needs_background": "light"
     },
     "output_type": "display_data"
    }
   ],
   "source": [
    "# plot a line at a time\n",
    "wellhead.GWE.plot()\n",
    "plt.ylabel('head (ft)')\n",
    "plt.xticks(rotation=30)\n",
    "plt.show()\n",
    "\n",
    "plt.figure()\n",
    "wellhead_w.recharge.plot()\n",
    "plt.ylabel('recharge (ft/day)')\n",
    "plt.xticks(rotation = 30)\n",
    "plt.show()\n"
   ]
  },
  {
   "cell_type": "markdown",
   "metadata": {},
   "source": [
    "The above plots are difficult to compare because the curves aren't on the same line. Using a slightly more complicated code, we can plot both heads and recharge on the same plot using different y-axes. \n",
    "\n",
    "I'll post a supplemental video discussing the details of this code. For now, you should be able to copy, paste, and modify. "
   ]
  },
  {
   "cell_type": "code",
   "execution_count": 54,
   "metadata": {},
   "outputs": [
    {
     "data": {
      "image/png": "[encoded data removed]",
      "text/plain": [
       "<Figure size 432x288 with 2 Axes>"
      ]
     },
     "metadata": {
      "needs_background": "light"
     },
     "output_type": "display_data"
    }
   ],
   "source": [
    "# Define a figure the primary axis\n",
    "fig, ax1 = plt.subplots()\n",
    "\n",
    "# There are a different set of functions/methods for defining properties of the primary axis. \n",
    "color = 'tab:blue'\n",
    "ax1.set_xlabel('Time')\n",
    "ax1.set_ylabel('Head (ft)', color=color)\n",
    "ax1.plot(wellhead.GWE, color=color)\n",
    "ax1.tick_params(axis='y', labelcolor=color)\n",
    "ax1.tick_params(axis='x', rotation=30)\n",
    "\n",
    "ax2 = ax1.twinx()  # instantiate a second axes that shares the same x-axis\n",
    "color = 'tab:red'\n",
    "ax2.set_ylabel('Recharge (ft/day)', color=color)  # we already handled the x-label with ax1\n",
    "ax2.plot(wellhead_w.recharge, color=color)\n",
    "ax2.tick_params(axis='y', labelcolor=color)\n",
    "ax2.axhline(linewidth=2, color='k')\n",
    "\n",
    "\n",
    "\n",
    "fig.tight_layout()  # otherwise the right y-label is slightly clipped\n",
    "plt.show()\n"
   ]
  },
  {
   "cell_type": "markdown",
   "metadata": {},
   "source": [
    "## You now have everything you need to start on Week 4's Homework assignment."
   ]
  }
 ],
 "metadata": {
  "kernelspec": {
   "display_name": "Python 3",
   "language": "python",
   "name": "python3"
  },
  "language_info": {
   "codemirror_mode": {
    "name": "ipython",
    "version": 3
   },
   "file_extension": ".py",
   "mimetype": "text/x-python",
   "name": "python",
   "nbconvert_exporter": "python",
   "pygments_lexer": "ipython3",
   "version": "3.8.5"
  }
 },
 "nbformat": 4,
 "nbformat_minor": 1
}
